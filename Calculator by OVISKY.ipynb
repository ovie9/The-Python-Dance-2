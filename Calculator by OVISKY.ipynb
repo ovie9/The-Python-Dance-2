{
 "cells": [
  {
   "cell_type": "code",
   "execution_count": 1,
   "id": "3c5217d5",
   "metadata": {},
   "outputs": [
    {
     "name": "stdout",
     "output_type": "stream",
     "text": [
      "Enter 'q' to quit.\n",
      "Enter the first number: 699999929884848477748488477474\n",
      "Enter the second number: 77474746464664\n",
      "Enter an operator (+, -, *, /): *\n",
      "5.42323170931112e+43\n",
      "Enter 'q' to quit.\n",
      "Enter the first number: q\n"
     ]
    }
   ],
   "source": [
    "def calculator():\n",
    "    while True:\n",
    "        print(\"Enter 'q' to quit.\")\n",
    "        num1 = input(\"Enter the first number: \")\n",
    "        if num1 == 'q':\n",
    "            break\n",
    "        num2 = input(\"Enter the second number: \")\n",
    "        if num2 == 'q':\n",
    "            break\n",
    "        operator = input(\"Enter an operator (+, -, *, /): \")\n",
    "        if operator == 'q':\n",
    "            break\n",
    "        num1 = float(num1)\n",
    "        num2 = float(num2)\n",
    "\n",
    "        if operator == '+':\n",
    "            print(num1 + num2)\n",
    "        elif operator == '-':\n",
    "            print(num1 - num2)\n",
    "        elif operator == '*':\n",
    "            print(num1 * num2)\n",
    "        elif operator == '/':\n",
    "            print(num1 / num2)\n",
    "        else:\n",
    "            print(\"Invalid operator. Try again.\")\n",
    "\n",
    "calculator()\n"
   ]
  },
  {
   "cell_type": "code",
   "execution_count": null,
   "id": "5568a3ff",
   "metadata": {},
   "outputs": [],
   "source": []
  }
 ],
 "metadata": {
  "kernelspec": {
   "display_name": "Python 3 (ipykernel)",
   "language": "python",
   "name": "python3"
  },
  "language_info": {
   "codemirror_mode": {
    "name": "ipython",
    "version": 3
   },
   "file_extension": ".py",
   "mimetype": "text/x-python",
   "name": "python",
   "nbconvert_exporter": "python",
   "pygments_lexer": "ipython3",
   "version": "3.9.13"
  }
 },
 "nbformat": 4,
 "nbformat_minor": 5
}
