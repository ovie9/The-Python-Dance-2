{
 "cells": [
  {
   "cell_type": "code",
   "execution_count": 1,
   "id": "23375d2e",
   "metadata": {},
   "outputs": [
    {
     "name": "stdout",
     "output_type": "stream",
     "text": [
      "Welcome to the 'Guess the Number' game!\n",
      "I am thinking of a number between 1 and 100.\n",
      "Try to guess the number in as few attempts as possible.\n",
      "\n",
      "What's your guess? 77\n",
      "The number is higher.\n",
      "What's your guess? 87\n",
      "The number is lower.\n",
      "What's your guess? 80\n",
      "The number is higher.\n",
      "What's your guess? 84\n",
      "\n",
      "Congratulations, you've won! It took you 4 guesses.\n"
     ]
    }
   ],
   "source": [
    "import random\n",
    "\n",
    "print(\"Welcome to the 'Guess the Number' game!\")\n",
    "print(\"I am thinking of a number between 1 and 100.\")\n",
    "print(\"Try to guess the number in as few attempts as possible.\\n\")\n",
    "\n",
    "# Generate a random number between 1 and 100\n",
    "number = random.randint(1, 100)\n",
    "\n",
    "# Keep track of the number of guesses\n",
    "guesses = 0\n",
    "\n",
    "# Start the game loop\n",
    "while True:\n",
    "    # Ask the user for their guess\n",
    "    guess = int(input(\"What's your guess? \"))\n",
    "    guesses += 1\n",
    "\n",
    "    # Check if the guess is correct\n",
    "    if guess == number:\n",
    "        print(f\"\\nCongratulations, you've won! It took you {guesses} guesses.\")\n",
    "        break\n",
    "    elif guess < number:\n",
    "        print(\"The number is higher.\")\n",
    "    else:\n",
    "        print(\"The number is lower.\")\n"
   ]
  },
  {
   "cell_type": "code",
   "execution_count": null,
   "id": "6e705e8d",
   "metadata": {},
   "outputs": [],
   "source": []
  }
 ],
 "metadata": {
  "kernelspec": {
   "display_name": "Python 3 (ipykernel)",
   "language": "python",
   "name": "python3"
  },
  "language_info": {
   "codemirror_mode": {
    "name": "ipython",
    "version": 3
   },
   "file_extension": ".py",
   "mimetype": "text/x-python",
   "name": "python",
   "nbconvert_exporter": "python",
   "pygments_lexer": "ipython3",
   "version": "3.9.13"
  }
 },
 "nbformat": 4,
 "nbformat_minor": 5
}
