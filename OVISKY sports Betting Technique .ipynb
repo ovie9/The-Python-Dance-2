{
 "cells": [
  {
   "cell_type": "code",
   "execution_count": 4,
   "id": "acfb876d",
   "metadata": {},
   "outputs": [
    {
     "name": "stdout",
     "output_type": "stream",
     "text": [
      "Team 1 is expected to win\n"
     ]
    }
   ],
   "source": [
    "def soccer_prediction(team1_attack, team1_defense, team2_attack, team2_defense):\n",
    "    team1_score = (team1_attack + team2_defense) / 2\n",
    "    team2_score = (team2_attack + team1_defense) / 2\n",
    "\n",
    "    if team1_score > team2_score:\n",
    "        return \"Team 1 is expected to win\"\n",
    "    elif team2_score > team1_score:\n",
    "        return \"Team 2 is expected to win\"\n",
    "    else:\n",
    "        return \"The match is expected to end in a draw\"\n",
    "\n",
    "# Example usage\n",
    "team1_attack = 80\n",
    "team1_defense = 75\n",
    "team2_attack = 70\n",
    "team2_defense = 80\n",
    "\n",
    "print(soccer_prediction(team1_attack, team1_defense, team2_attack, team2_defense))\n",
    "\n"
   ]
  },
  {
   "cell_type": "code",
   "execution_count": 6,
   "id": "7abdf93e",
   "metadata": {},
   "outputs": [
    {
     "name": "stdout",
     "output_type": "stream",
     "text": [
      "The match is expected to end in a draw\n"
     ]
    }
   ],
   "source": [
    "team1_attack = 90\n",
    "team1_defense = 80\n",
    "team2_attack = 85\n",
    "team2_defense = 75\n",
    "\n",
    "print(soccer_prediction(team1_attack, team1_defense, team2_attack, team2_defense))\n"
   ]
  },
  {
   "cell_type": "code",
   "execution_count": null,
   "id": "6ea97b89",
   "metadata": {},
   "outputs": [],
   "source": []
  },
  {
   "cell_type": "code",
   "execution_count": 7,
   "id": "0b249120",
   "metadata": {},
   "outputs": [
    {
     "name": "stdout",
     "output_type": "stream",
     "text": [
      "Team 1 is expected to win\n"
     ]
    }
   ],
   "source": [
    "def soccer_prediction(team1_attack, team1_defense, team2_attack, team2_defense, team1_morale, team2_morale, team1_injuries, team2_injuries, weather_conditions):\n",
    "    team1_score = (team1_attack + team2_defense) / 2\n",
    "    team2_score = (team2_attack + team1_defense) / 2\n",
    "\n",
    "    team1_morale_modifier = 1 + (team1_morale - 50) / 100\n",
    "    team2_morale_modifier = 1 + (team2_morale - 50) / 100\n",
    "\n",
    "    team1_injury_modifier = 1 - (team1_injuries / 100)\n",
    "    team2_injury_modifier = 1 - (team2_injuries / 100)\n",
    "\n",
    "    weather_modifier = 1\n",
    "\n",
    "    if weather_conditions == \"rainy\":\n",
    "        weather_modifier = 0.9\n",
    "    elif weather_conditions == \"sunny\":\n",
    "        weather_modifier = 1.1\n",
    "\n",
    "    team1_score *= team1_morale_modifier * team1_injury_modifier * weather_modifier\n",
    "    team2_score *= team2_morale_modifier * team2_injury_modifier * weather_modifier\n",
    "\n",
    "    if team1_score > team2_score:\n",
    "        return \"Team 1 is expected to win\"\n",
    "    elif team2_score > team1_score:\n",
    "        return \"Team 2 is expected to win\"\n",
    "    else:\n",
    "        return \"The match is expected to end in a draw\"\n",
    "\n",
    "# Example usage\n",
    "team1_attack = 80\n",
    "team1_defense = 75\n",
    "team2_attack = 70\n",
    "team2_defense = 80\n",
    "team1_morale = 80\n",
    "team2_morale = 60\n",
    "team1_injuries = 20\n",
    "team2_injuries = 10\n",
    "weather_conditions = \"sunny\"\n",
    "\n",
    "print(soccer_prediction(team1_attack, team1_defense, team2_attack, team2_defense, team1_morale, team2_morale, team1_injuries, team2_injuries, weather_conditions))\n"
   ]
  },
  {
   "cell_type": "code",
   "execution_count": null,
   "id": "189eafc3",
   "metadata": {},
   "outputs": [],
   "source": []
  }
 ],
 "metadata": {
  "kernelspec": {
   "display_name": "Python 3 (ipykernel)",
   "language": "python",
   "name": "python3"
  },
  "language_info": {
   "codemirror_mode": {
    "name": "ipython",
    "version": 3
   },
   "file_extension": ".py",
   "mimetype": "text/x-python",
   "name": "python",
   "nbconvert_exporter": "python",
   "pygments_lexer": "ipython3",
   "version": "3.9.13"
  }
 },
 "nbformat": 4,
 "nbformat_minor": 5
}
